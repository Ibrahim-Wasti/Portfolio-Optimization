{
 "cells": [
  {
   "cell_type": "markdown",
   "metadata": {},
   "source": [
    "### Optimize user's portfolio using Efficient Frontier"
   ]
  },
  {
   "cell_type": "code",
   "execution_count": null,
   "metadata": {},
   "outputs": [],
   "source": [
    "from pandas_datareader import data as web\n",
    "import pandas as pd\n",
    "import numpy as np\n",
    "import matplotlib.pyplot as plt\n",
    "import matplotlib.dates as md\n",
    "from datetime import datetime\n",
    "import seaborn as sns\n",
    "import cvxopt\n",
    "from pypfopt.efficient_frontier import EfficientFrontier\n",
    "from pypfopt import DiscreteAllocation, get_latest_prices\n",
    "from pypfopt import risk_models\n",
    "from pypfopt import expected_returns\n",
    "plt.style.use('ggplot')\n",
    "plt.style.use('seaborn-poster')\n",
    "sns.set_palette('muted')"
   ]
  },
  {
   "cell_type": "code",
   "execution_count": null,
   "metadata": {},
   "outputs": [],
   "source": [
    "def check_weights(x):\n",
    "    if np.sum(x) != 1:\n",
    "        print('Current weights total:', np.sum(x))\n",
    "        print('Please make sure your weights add up to 1')\n",
    "        return None\n",
    "    return x\n",
    "def check_dates_length(x,y):\n",
    "    if ((len(x)) != len((y))) & (len((y)) != 1):\n",
    "        print('Please enter the start dates for the tickers in the format \"YYYY-MM-DD\" seperated by commas')\n",
    "        print('Please make sure there are the same amount of dates as tickers, or a single date.')\n",
    "        return None\n",
    "    return x, y\n",
    "def check_weights_length(x,y):\n",
    "    if len(x) != len(y):\n",
    "        print('Please enter the same number of weights as tickers')\n",
    "        return None\n",
    "    return x, y"
   ]
  },
  {
   "cell_type": "code",
   "execution_count": null,
   "metadata": {},
   "outputs": [],
   "source": [
    "def create_df(tickers, start_dates, weights, end_date = datetime.today().strftime('%Y-%m-%d'),api='av-daily-adjusted',\n",
    "         params = 'adjusted close'):\n",
    "    if type(tickers) != list:\n",
    "        tickers = tickers.split()\n",
    "    if type(start_dates) != list:\n",
    "        start_dates = start_dates.split()\n",
    "    check_dates_length(tickers,start_dates)\n",
    "    check_weights_length(tickers,weights)\n",
    "    check_weights(weights)\n",
    "    df = pd.DataFrame()\n",
    "    if len(start_dates) == 1:\n",
    "        for i in tickers:\n",
    "            df[i] = web.DataReader(i, api, start = start_dates[0], end = end_date, api_key= '58O6Y312RH95S2QY')[params]\n",
    "    else:\n",
    "        for i,j in zip(tickers,start_dates):\n",
    "            df[i] = web.DataReader(i, api, start = j, end = end_date, api_key= '58O6Y312RH95S2QY')[params]\n",
    "    return df\n"
   ]
  },
  {
   "cell_type": "code",
   "execution_count": null,
   "metadata": {},
   "outputs": [],
   "source": [
    "def time_series_graph(df):\n",
    "    df1 = df.copy()\n",
    "    df1.reset_index(inplace=True)\n",
    "    df1.rename(columns={'index':'Date'},inplace=True)\n",
    "    df1['Date'] = pd.to_datetime(df1['Date'], format = '%Y-%m-%d')\n",
    "    for i in df1.columns[1:].values:\n",
    "        ax = sns.lineplot(data=df1, x = df1['Date'], y = df1[i], label = i)\n",
    "        ax.xaxis.set_minor_locator(md.MonthLocator(interval = 1))\n",
    "        plt.xlabel('Date',fontsize=18)\n",
    "        plt.ylabel('Adj. Price in USD', fontsize=18)\n",
    "        plt.title('Adjusted Close Price History')\n",
    "        plt.gcf().autofmt_xdate()\n",
    "        plt.tight_layout()"
   ]
  },
  {
   "cell_type": "code",
   "execution_count": null,
   "metadata": {},
   "outputs": [],
   "source": [
    "def get_covariance_matrix(df):\n",
    "    returns = df.pct_change()\n",
    "    cov_matrix_annual = returns.cov() * 252\n",
    "    return returns, cov_matrix_annual\n",
    "def get_vvr(df,weights,verbose=True):\n",
    "    returns,covariance = get_covariance_matrix(df)\n",
    "    variance = np.dot(weights.T, np.dot(covariance, weights))\n",
    "    volatility = np.sqrt(variance)\n",
    "    simple_annual_returns = np.sum(returns.mean() * weights) * 252\n",
    "    var_percent = round(variance * 100, 2)\n",
    "    vol_percent = round(volatility * 100, 2)\n",
    "    annual_returns_percent = round(simple_annual_returns * 100, 2)\n",
    "    if verbose == True:\n",
    "        print('Expected Annual Returns: ' + str(annual_returns_percent) + '%')\n",
    "        print('Annual Volatiltiy: ' + str(vol_percent) + '%')\n",
    "        print('Annual Variance: ' + str(var_percent) + '%')\n"
   ]
  },
  {
   "cell_type": "code",
   "execution_count": null,
   "metadata": {},
   "outputs": [],
   "source": [
    "def optimize(df,total_portfolio_value):\n",
    "    mu = expected_returns.mean_historical_return(df)\n",
    "    S = risk_models.sample_cov(df)\n",
    "    ef = EfficientFrontier(mu,S)\n",
    "    w = ef.max_sharpe()\n",
    "    clean_w = ef.clean_weights()\n",
    "    print('Sharpe Performance')\n",
    "    print(ef.portfolio_performance(verbose=1))\n",
    "    latest_prices = get_latest_prices(df)\n",
    "    da = DiscreteAllocation(clean_w, latest_prices, total_portfolio_value)\n",
    "    allocation, leftover = da.lp_portfolio()\n",
    "    print('Optimized Portfolio')\n",
    "    print('Optimized Allocation: ', allocation)\n",
    "    print('Funds Remaining: ${:.2f}'.format(leftover))\n"
   ]
  },
  {
   "cell_type": "code",
   "execution_count": null,
   "metadata": {},
   "outputs": [],
   "source": [
    "def main(tickers,start_dates,weights,tpv,graph=False,verbose=True):\n",
    "    df = create_df(tickers,start_dates,weights)\n",
    "    if graph == True:\n",
    "        time_series_graph(df)\n",
    "    get_vvr(df,weights,verbose)\n",
    "    optimize(df,tpv)"
   ]
  },
  {
   "cell_type": "code",
   "execution_count": null,
   "metadata": {},
   "outputs": [],
   "source": [
    "input_tickers = input('Enter ticker symbols seperated by a space:')\n",
    "tickers = input_tickers.upper().split()\n",
    "input_weights = input('Enter weight as decimal percentage matching their tickers seperated by a space:')\n",
    "weights = np.array([float(i) for i in input_weights.split()])\n",
    "input_start_dates = input('Enter start date(s) depeding on if you have multiple or one, format YYYY-MM-DD: ')\n",
    "start_dates = input_start_dates.split()\n",
    "value= int(input('Enter total protfolio value in USD:'))"
   ]
  },
  {
   "cell_type": "code",
   "execution_count": null,
   "metadata": {},
   "outputs": [],
   "source": [
    "main(tickers,start_dates,weights,value,graph=True)"
   ]
  },
  {
   "cell_type": "code",
   "execution_count": null,
   "metadata": {},
   "outputs": [],
   "source": []
  }
 ],
 "metadata": {
  "kernelspec": {
   "display_name": "Python 3",
   "language": "python",
   "name": "python3"
  },
  "language_info": {
   "codemirror_mode": {
    "name": "ipython",
    "version": 3
   },
   "file_extension": ".py",
   "mimetype": "text/x-python",
   "name": "python",
   "nbconvert_exporter": "python",
   "pygments_lexer": "ipython3",
   "version": "3.8.3"
  }
 },
 "nbformat": 4,
 "nbformat_minor": 4
}
